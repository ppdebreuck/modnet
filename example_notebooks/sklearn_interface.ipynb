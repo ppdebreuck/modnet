{
 "cells": [
  {
   "cell_type": "markdown",
   "metadata": {},
   "source": [
    "# MODNet sklearn interface\n",
    "\n",
    "The sklearn API implementation of MODNet can be found *under modnet.sklearn*. It enables integration with scikit-learn methods such as pipelines, model selection functions (e.g. gridsearch), and integration with other sklearn models.\n",
    "\n",
    "The main classes are:\n",
    "\n",
    "- **MODNetFeaturizer**: A transformer that converts a list of compositions or structures to a dataframe of shape (n_samples, n_features)\n",
    "\n",
    "- **RR**: A transformer based on Relevance-Redundancy (RR) feature selection. Given an input array or dataframe it will keep *n_feat* features with the highest RR-score.\n",
    "\n",
    "- **MODNetRegressor**: A regressor based on the MODNetModel for fitting, allowing multiple properties.\n",
    "\n",
    "- **MODNetClassifier**: A classifier based on the MODNetModel.\n",
    "\n",
    "\n",
    "Please find hereunder some simple examples using this sklearn interface. They are simplified (omitting validation etc.) to go straight to the point."
   ]
  },
  {
   "cell_type": "markdown",
   "metadata": {},
   "source": [
    "## Featurization\n",
    "Quick example on how to use *MODNetFeaturizer*"
   ]
  },
  {
   "cell_type": "code",
   "execution_count": 1,
   "metadata": {},
   "outputs": [
    {
     "name": "stdout",
     "output_type": "stream",
     "text": [
      "2022-05-17 17:42:02,696 - modnet - INFO - Loaded CompositionOnlyFeaturizer featurizer.\n",
      "2022-05-17 17:42:02,698 - modnet - INFO - Computing features, this can take time...\n",
      "2022-05-17 17:42:02,699 - modnet - INFO - Applying composition featurizers...\n",
      "2022-05-17 17:42:02,702 - modnet - INFO - Applying featurizers (AtomicOrbitals(), AtomicPackingEfficiency(), BandCenter(), ElementFraction(), ElementProperty(data_source=<matminer.utils.data.MagpieData object at 0x7f79d6f3a9d0>,\n",
      "                features=['Number', 'MendeleevNumber', 'AtomicWeight',\n",
      "                          'MeltingT', 'Column', 'Row', 'CovalentRadius',\n",
      "                          'Electronegativity', 'NsValence', 'NpValence',\n",
      "                          'NdValence', 'NfValence', 'NValence', 'NsUnfilled',\n",
      "                          'NpUnfilled', 'NdUnfilled', 'NfUnfilled', 'NUnfilled',\n",
      "                          'GSvolume_pa', 'GSbandgap', 'GSmagmom',\n",
      "                          'SpaceGroupNumber'],\n",
      "                stats=['minimum', 'maximum', 'range', 'mean', 'avg_dev',\n",
      "                       'mode']), IonProperty(), Miedema(ss_types=['min'], struct_types=['inter', 'amor', 'ss']), Stoichiometry(), TMetalFraction(), ValenceOrbital(), YangSolidSolution()) to column 'composition'.\n"
     ]
    },
    {
     "name": "stderr",
     "output_type": "stream",
     "text": [
      "MultipleFeaturizer: 100%|██████████| 4/4 [00:00<00:00, 22.72it/s]\n"
     ]
    },
    {
     "name": "stdout",
     "output_type": "stream",
     "text": [
      "2022-05-17 17:42:05,538 - modnet - INFO - Data has successfully been featurized!\n"
     ]
    },
    {
     "data": {
      "text/html": [
       "<div>\n",
       "<style scoped>\n",
       "    .dataframe tbody tr th:only-of-type {\n",
       "        vertical-align: middle;\n",
       "    }\n",
       "\n",
       "    .dataframe tbody tr th {\n",
       "        vertical-align: top;\n",
       "    }\n",
       "\n",
       "    .dataframe thead th {\n",
       "        text-align: right;\n",
       "    }\n",
       "</style>\n",
       "<table border=\"1\" class=\"dataframe\">\n",
       "  <thead>\n",
       "    <tr style=\"text-align: right;\">\n",
       "      <th></th>\n",
       "      <th>AtomicOrbitals|HOMO_character</th>\n",
       "      <th>AtomicOrbitals|HOMO_element</th>\n",
       "      <th>AtomicOrbitals|HOMO_energy</th>\n",
       "      <th>AtomicOrbitals|LUMO_character</th>\n",
       "      <th>AtomicOrbitals|LUMO_element</th>\n",
       "      <th>AtomicOrbitals|LUMO_energy</th>\n",
       "      <th>AtomicOrbitals|gap_AO</th>\n",
       "      <th>AtomicPackingEfficiency|mean simul. packing efficiency</th>\n",
       "      <th>AtomicPackingEfficiency|mean abs simul. packing efficiency</th>\n",
       "      <th>AtomicPackingEfficiency|dist from 1 clusters |APE| &lt; 0.010</th>\n",
       "      <th>...</th>\n",
       "      <th>ValenceOrbital|avg s valence electrons</th>\n",
       "      <th>ValenceOrbital|avg p valence electrons</th>\n",
       "      <th>ValenceOrbital|avg d valence electrons</th>\n",
       "      <th>ValenceOrbital|avg f valence electrons</th>\n",
       "      <th>ValenceOrbital|frac s valence electrons</th>\n",
       "      <th>ValenceOrbital|frac p valence electrons</th>\n",
       "      <th>ValenceOrbital|frac d valence electrons</th>\n",
       "      <th>ValenceOrbital|frac f valence electrons</th>\n",
       "      <th>YangSolidSolution|Yang omega</th>\n",
       "      <th>YangSolidSolution|Yang delta</th>\n",
       "    </tr>\n",
       "    <tr>\n",
       "      <th>id</th>\n",
       "      <th></th>\n",
       "      <th></th>\n",
       "      <th></th>\n",
       "      <th></th>\n",
       "      <th></th>\n",
       "      <th></th>\n",
       "      <th></th>\n",
       "      <th></th>\n",
       "      <th></th>\n",
       "      <th></th>\n",
       "      <th></th>\n",
       "      <th></th>\n",
       "      <th></th>\n",
       "      <th></th>\n",
       "      <th></th>\n",
       "      <th></th>\n",
       "      <th></th>\n",
       "      <th></th>\n",
       "      <th></th>\n",
       "      <th></th>\n",
       "      <th></th>\n",
       "    </tr>\n",
       "  </thead>\n",
       "  <tbody>\n",
       "    <tr>\n",
       "      <th>id0</th>\n",
       "      <td>2</td>\n",
       "      <td>14</td>\n",
       "      <td>-0.153293</td>\n",
       "      <td>2</td>\n",
       "      <td>14</td>\n",
       "      <td>-0.153293</td>\n",
       "      <td>0.0</td>\n",
       "      <td>0.023994</td>\n",
       "      <td>0.023994</td>\n",
       "      <td>1.0</td>\n",
       "      <td>...</td>\n",
       "      <td>2.0</td>\n",
       "      <td>2.0</td>\n",
       "      <td>0.0</td>\n",
       "      <td>0.0</td>\n",
       "      <td>0.500000</td>\n",
       "      <td>0.500000</td>\n",
       "      <td>0.000000</td>\n",
       "      <td>0.0</td>\n",
       "      <td>0</td>\n",
       "      <td>0.0</td>\n",
       "    </tr>\n",
       "    <tr>\n",
       "      <th>id1</th>\n",
       "      <td>1</td>\n",
       "      <td>29</td>\n",
       "      <td>-0.172056</td>\n",
       "      <td>1</td>\n",
       "      <td>29</td>\n",
       "      <td>-0.172056</td>\n",
       "      <td>0.0</td>\n",
       "      <td>0.023994</td>\n",
       "      <td>0.023994</td>\n",
       "      <td>1.0</td>\n",
       "      <td>...</td>\n",
       "      <td>1.0</td>\n",
       "      <td>0.0</td>\n",
       "      <td>10.0</td>\n",
       "      <td>0.0</td>\n",
       "      <td>0.090909</td>\n",
       "      <td>0.000000</td>\n",
       "      <td>0.909091</td>\n",
       "      <td>0.0</td>\n",
       "      <td>0</td>\n",
       "      <td>0.0</td>\n",
       "    </tr>\n",
       "    <tr>\n",
       "      <th>id2</th>\n",
       "      <td>2</td>\n",
       "      <td>13</td>\n",
       "      <td>-0.102545</td>\n",
       "      <td>2</td>\n",
       "      <td>13</td>\n",
       "      <td>-0.102545</td>\n",
       "      <td>0.0</td>\n",
       "      <td>0.023994</td>\n",
       "      <td>0.023994</td>\n",
       "      <td>1.0</td>\n",
       "      <td>...</td>\n",
       "      <td>2.0</td>\n",
       "      <td>1.0</td>\n",
       "      <td>0.0</td>\n",
       "      <td>0.0</td>\n",
       "      <td>0.666667</td>\n",
       "      <td>0.333333</td>\n",
       "      <td>0.000000</td>\n",
       "      <td>0.0</td>\n",
       "      <td>0</td>\n",
       "      <td>0.0</td>\n",
       "    </tr>\n",
       "    <tr>\n",
       "      <th>id3</th>\n",
       "      <td>3</td>\n",
       "      <td>22</td>\n",
       "      <td>-0.170010</td>\n",
       "      <td>3</td>\n",
       "      <td>22</td>\n",
       "      <td>-0.170010</td>\n",
       "      <td>0.0</td>\n",
       "      <td>0.023994</td>\n",
       "      <td>0.023994</td>\n",
       "      <td>1.0</td>\n",
       "      <td>...</td>\n",
       "      <td>2.0</td>\n",
       "      <td>0.0</td>\n",
       "      <td>2.0</td>\n",
       "      <td>0.0</td>\n",
       "      <td>0.500000</td>\n",
       "      <td>0.000000</td>\n",
       "      <td>0.500000</td>\n",
       "      <td>0.0</td>\n",
       "      <td>0</td>\n",
       "      <td>0.0</td>\n",
       "    </tr>\n",
       "  </tbody>\n",
       "</table>\n",
       "<p>4 rows × 270 columns</p>\n",
       "</div>"
      ],
      "text/plain": [
       "     AtomicOrbitals|HOMO_character  AtomicOrbitals|HOMO_element  \\\n",
       "id                                                                \n",
       "id0                              2                           14   \n",
       "id1                              1                           29   \n",
       "id2                              2                           13   \n",
       "id3                              3                           22   \n",
       "\n",
       "     AtomicOrbitals|HOMO_energy  AtomicOrbitals|LUMO_character  \\\n",
       "id                                                               \n",
       "id0                   -0.153293                              2   \n",
       "id1                   -0.172056                              1   \n",
       "id2                   -0.102545                              2   \n",
       "id3                   -0.170010                              3   \n",
       "\n",
       "     AtomicOrbitals|LUMO_element  AtomicOrbitals|LUMO_energy  \\\n",
       "id                                                             \n",
       "id0                           14                   -0.153293   \n",
       "id1                           29                   -0.172056   \n",
       "id2                           13                   -0.102545   \n",
       "id3                           22                   -0.170010   \n",
       "\n",
       "     AtomicOrbitals|gap_AO  \\\n",
       "id                           \n",
       "id0                    0.0   \n",
       "id1                    0.0   \n",
       "id2                    0.0   \n",
       "id3                    0.0   \n",
       "\n",
       "     AtomicPackingEfficiency|mean simul. packing efficiency  \\\n",
       "id                                                            \n",
       "id0                                           0.023994        \n",
       "id1                                           0.023994        \n",
       "id2                                           0.023994        \n",
       "id3                                           0.023994        \n",
       "\n",
       "     AtomicPackingEfficiency|mean abs simul. packing efficiency  \\\n",
       "id                                                                \n",
       "id0                                           0.023994            \n",
       "id1                                           0.023994            \n",
       "id2                                           0.023994            \n",
       "id3                                           0.023994            \n",
       "\n",
       "     AtomicPackingEfficiency|dist from 1 clusters |APE| < 0.010  ...  \\\n",
       "id                                                               ...   \n",
       "id0                                                1.0           ...   \n",
       "id1                                                1.0           ...   \n",
       "id2                                                1.0           ...   \n",
       "id3                                                1.0           ...   \n",
       "\n",
       "     ValenceOrbital|avg s valence electrons  \\\n",
       "id                                            \n",
       "id0                                     2.0   \n",
       "id1                                     1.0   \n",
       "id2                                     2.0   \n",
       "id3                                     2.0   \n",
       "\n",
       "     ValenceOrbital|avg p valence electrons  \\\n",
       "id                                            \n",
       "id0                                     2.0   \n",
       "id1                                     0.0   \n",
       "id2                                     1.0   \n",
       "id3                                     0.0   \n",
       "\n",
       "     ValenceOrbital|avg d valence electrons  \\\n",
       "id                                            \n",
       "id0                                     0.0   \n",
       "id1                                    10.0   \n",
       "id2                                     0.0   \n",
       "id3                                     2.0   \n",
       "\n",
       "     ValenceOrbital|avg f valence electrons  \\\n",
       "id                                            \n",
       "id0                                     0.0   \n",
       "id1                                     0.0   \n",
       "id2                                     0.0   \n",
       "id3                                     0.0   \n",
       "\n",
       "     ValenceOrbital|frac s valence electrons  \\\n",
       "id                                             \n",
       "id0                                 0.500000   \n",
       "id1                                 0.090909   \n",
       "id2                                 0.666667   \n",
       "id3                                 0.500000   \n",
       "\n",
       "     ValenceOrbital|frac p valence electrons  \\\n",
       "id                                             \n",
       "id0                                 0.500000   \n",
       "id1                                 0.000000   \n",
       "id2                                 0.333333   \n",
       "id3                                 0.000000   \n",
       "\n",
       "     ValenceOrbital|frac d valence electrons  \\\n",
       "id                                             \n",
       "id0                                 0.000000   \n",
       "id1                                 0.909091   \n",
       "id2                                 0.000000   \n",
       "id3                                 0.500000   \n",
       "\n",
       "     ValenceOrbital|frac f valence electrons  YangSolidSolution|Yang omega  \\\n",
       "id                                                                           \n",
       "id0                                      0.0                             0   \n",
       "id1                                      0.0                             0   \n",
       "id2                                      0.0                             0   \n",
       "id3                                      0.0                             0   \n",
       "\n",
       "     YangSolidSolution|Yang delta  \n",
       "id                                 \n",
       "id0                           0.0  \n",
       "id1                           0.0  \n",
       "id2                           0.0  \n",
       "id3                           0.0  \n",
       "\n",
       "[4 rows x 270 columns]"
      ]
     },
     "execution_count": 1,
     "metadata": {},
     "output_type": "execute_result"
    }
   ],
   "source": [
    "from pymatgen.core import Composition\n",
    "from modnet.sklearn import MODNetFeaturizer\n",
    "X = [Composition(\"Si\"), Composition(\"Cu\"), Composition(\"Al\"), Composition(\"Ti\")]\n",
    "featurizer = MODNetFeaturizer()\n",
    "X = featurizer.fit_transform(X)\n",
    "X"
   ]
  },
  {
   "cell_type": "markdown",
   "metadata": {},
   "source": [
    "## Feature selection"
   ]
  },
  {
   "cell_type": "code",
   "execution_count": 2,
   "metadata": {},
   "outputs": [
    {
     "name": "stdout",
     "output_type": "stream",
     "text": [
      "2022-05-17 17:29:01,936 - modnet - INFO - Multiprocessing on 1 workers.\n",
      "2022-05-17 17:29:01,942 - modnet - INFO - Computing \"self\" MI (i.e. information entropy) of features\n"
     ]
    },
    {
     "name": "stderr",
     "output_type": "stream",
     "text": [
      "100%|██████████| 8/8 [00:03<00:00,  2.02it/s]"
     ]
    },
    {
     "name": "stdout",
     "output_type": "stream",
     "text": [
      "2022-05-17 17:29:05,916 - modnet - INFO - Computing cross NMI between all features...\n"
     ]
    },
    {
     "name": "stderr",
     "output_type": "stream",
     "text": [
      "\n",
      "100%|██████████| 28/28 [00:08<00:00,  3.15it/s]\n"
     ]
    },
    {
     "name": "stdout",
     "output_type": "stream",
     "text": [
      "['f7', 'f0', 'f2', 'f5']\n",
      "4\n"
     ]
    }
   ],
   "source": [
    "from sklearn.datasets import fetch_california_housing\n",
    "from modnet.sklearn import RR\n",
    "housing = fetch_california_housing()\n",
    "X = housing[\"data\"]\n",
    "y = housing[\"target\"]\n",
    "\n",
    "rr = RR(n_feat=4)\n",
    "X = rr.fit_transform(X,y)"
   ]
  },
  {
   "cell_type": "markdown",
   "metadata": {},
   "source": [
    "## Regression"
   ]
  },
  {
   "cell_type": "code",
   "execution_count": 5,
   "metadata": {},
   "outputs": [
    {
     "data": {
      "text/plain": [
       "array([[4.6175666 ],\n",
       "       [4.6177154 ],\n",
       "       [4.098857  ],\n",
       "       ...,\n",
       "       [0.83606505],\n",
       "       [0.7955098 ],\n",
       "       [0.9387408 ]], dtype=float32)"
      ]
     },
     "execution_count": 5,
     "metadata": {},
     "output_type": "execute_result"
    }
   ],
   "source": [
    "from modnet.sklearn import MODNetRegressor\n",
    "\n",
    "# simple train example\n",
    "model = MODNetRegressor()\n",
    "model.fit(X,y)\n",
    "model.predict(X)"
   ]
  },
  {
   "cell_type": "markdown",
   "metadata": {},
   "source": [
    "## Classification"
   ]
  },
  {
   "cell_type": "code",
   "execution_count": 8,
   "metadata": {},
   "outputs": [
    {
     "data": {
      "text/plain": [
       "array([0, 1, 2, ..., 8, 9, 8])"
      ]
     },
     "execution_count": 8,
     "metadata": {},
     "output_type": "execute_result"
    }
   ],
   "source": [
    "from modnet.sklearn import MODNetClassifier\n",
    "from sklearn.datasets import load_digits\n",
    "data = load_digits()\n",
    "X = data[\"data\"]\n",
    "y = data[\"target\"]\n",
    "\n",
    "model = MODNetClassifier()\n",
    "model.fit(X,y)\n",
    "model.predict(X)"
   ]
  },
  {
   "cell_type": "markdown",
   "metadata": {},
   "source": [
    "## Pipe"
   ]
  },
  {
   "cell_type": "code",
   "execution_count": 2,
   "metadata": {},
   "outputs": [
    {
     "name": "stdout",
     "output_type": "stream",
     "text": [
      "2022-05-17 17:48:37,023 - modnet - INFO - Loaded CompositionOnlyFeaturizer featurizer.\n",
      "2022-05-17 17:48:37,024 - modnet - INFO - Computing features, this can take time...\n",
      "2022-05-17 17:48:37,025 - modnet - INFO - Applying composition featurizers...\n",
      "2022-05-17 17:48:37,030 - modnet - INFO - Applying featurizers (AtomicOrbitals(), AtomicPackingEfficiency(), BandCenter(), ElementFraction(), ElementProperty(data_source=<matminer.utils.data.MagpieData object at 0x7f893df15400>,\n",
      "                features=['Number', 'MendeleevNumber', 'AtomicWeight',\n",
      "                          'MeltingT', 'Column', 'Row', 'CovalentRadius',\n",
      "                          'Electronegativity', 'NsValence', 'NpValence',\n",
      "                          'NdValence', 'NfValence', 'NValence', 'NsUnfilled',\n",
      "                          'NpUnfilled', 'NdUnfilled', 'NfUnfilled', 'NUnfilled',\n",
      "                          'GSvolume_pa', 'GSbandgap', 'GSmagmom',\n",
      "                          'SpaceGroupNumber'],\n",
      "                stats=['minimum', 'maximum', 'range', 'mean', 'avg_dev',\n",
      "                       'mode']), IonProperty(), Miedema(ss_types=['min'], struct_types=['inter', 'amor', 'ss']), Stoichiometry(), TMetalFraction(), ValenceOrbital(), YangSolidSolution()) to column 'composition'.\n"
     ]
    },
    {
     "name": "stderr",
     "output_type": "stream",
     "text": [
      "MultipleFeaturizer: 100%|██████████| 4/4 [00:00<00:00, 22.02it/s]\n"
     ]
    },
    {
     "name": "stdout",
     "output_type": "stream",
     "text": [
      "2022-05-17 17:48:40,714 - modnet - INFO - Data has successfully been featurized!\n",
      "2022-05-17 17:48:40,735 - modnet - INFO - Multiprocessing on 1 workers.\n",
      "2022-05-17 17:48:40,739 - modnet - INFO - Computing \"self\" MI (i.e. information entropy) of features\n"
     ]
    },
    {
     "name": "stderr",
     "output_type": "stream",
     "text": [
      "100%|██████████| 270/270 [00:03<00:00, 77.22it/s]"
     ]
    },
    {
     "name": "stdout",
     "output_type": "stream",
     "text": [
      "2022-05-17 17:48:44,258 - modnet - INFO - Computing cross NMI between all features...\n"
     ]
    },
    {
     "name": "stderr",
     "output_type": "stream",
     "text": [
      "\n",
      "  0%|          | 1/4851 [00:00<14:31,  5.57it/s]/Users/ppdebreuck/Research/Software/modnet/modnet/preprocessing.py:274: RuntimeWarning: invalid value encountered in true_divide\n",
      "  mutual_info.loc[res[1], res[2]] = mutual_info.loc[res[2], res[1]] = res[0] / (\n",
      "  4%|▍         | 201/4851 [00:00<00:10, 444.57it/s]/Users/ppdebreuck/Research/Software/modnet/modnet/preprocessing.py:274: RuntimeWarning: divide by zero encountered in double_scalars\n",
      "  mutual_info.loc[res[1], res[2]] = mutual_info.loc[res[2], res[1]] = res[0] / (\n",
      "100%|██████████| 4851/4851 [00:08<00:00, 562.55it/s]\n",
      "/Users/ppdebreuck/Research/Software/modnet/modnet/preprocessing.py:161: RuntimeWarning: invalid value encountered in true_divide\n",
      "  mutual_info.loc[x, target_name] = mutual_info.loc[x, target_name] / (\n",
      "/Users/ppdebreuck/Research/Software/modnet/modnet/preprocessing.py:161: RuntimeWarning: invalid value encountered in double_scalars\n",
      "  mutual_info.loc[x, target_name] = mutual_info.loc[x, target_name] / (\n"
     ]
    },
    {
     "name": "stdout",
     "output_type": "stream",
     "text": [
      "['AtomicOrbitals|HOMO_character', 'AtomicOrbitals|HOMO_element', 'AtomicOrbitals|HOMO_energy', 'AtomicOrbitals|LUMO_character', 'AtomicOrbitals|LUMO_element', 'AtomicOrbitals|LUMO_energy', 'BandCenter|band center', 'ElementFraction|Al', 'ElementFraction|Si', 'ElementFraction|Ti']\n",
      "10\n"
     ]
    },
    {
     "name": "stderr",
     "output_type": "stream",
     "text": [
      "2022-05-17 17:48:53.963323: I tensorflow/core/platform/cpu_feature_guard.cc:151] This TensorFlow binary is optimized with oneAPI Deep Neural Network Library (oneDNN) to use the following CPU instructions in performance-critical operations:  AVX2 FMA\n",
      "To enable them in other operations, rebuild TensorFlow with the appropriate compiler flags.\n"
     ]
    },
    {
     "name": "stdout",
     "output_type": "stream",
     "text": [
      "2022-05-17 17:48:54,972 - modnet - INFO - Loaded CompositionOnlyFeaturizer featurizer.\n",
      "2022-05-17 17:48:54,974 - modnet - INFO - Computing features, this can take time...\n",
      "2022-05-17 17:48:54,975 - modnet - INFO - Applying composition featurizers...\n",
      "2022-05-17 17:48:54,979 - modnet - INFO - Applying featurizers (AtomicOrbitals(), AtomicPackingEfficiency(), BandCenter(), ElementFraction(), ElementProperty(data_source=<matminer.utils.data.MagpieData object at 0x7f893e154a00>,\n",
      "                features=['Number', 'MendeleevNumber', 'AtomicWeight',\n",
      "                          'MeltingT', 'Column', 'Row', 'CovalentRadius',\n",
      "                          'Electronegativity', 'NsValence', 'NpValence',\n",
      "                          'NdValence', 'NfValence', 'NValence', 'NsUnfilled',\n",
      "                          'NpUnfilled', 'NdUnfilled', 'NfUnfilled', 'NUnfilled',\n",
      "                          'GSvolume_pa', 'GSbandgap', 'GSmagmom',\n",
      "                          'SpaceGroupNumber'],\n",
      "                stats=['minimum', 'maximum', 'range', 'mean', 'avg_dev',\n",
      "                       'mode']), IonProperty(), Miedema(ss_types=['min'], struct_types=['inter', 'amor', 'ss']), Stoichiometry(), TMetalFraction(), ValenceOrbital(), YangSolidSolution()) to column 'composition'.\n"
     ]
    },
    {
     "name": "stderr",
     "output_type": "stream",
     "text": [
      "MultipleFeaturizer: 100%|██████████| 4/4 [00:00<00:00, 17.89it/s]\n"
     ]
    },
    {
     "name": "stdout",
     "output_type": "stream",
     "text": [
      "2022-05-17 17:48:57,768 - modnet - INFO - Data has successfully been featurized!\n",
      "['AtomicOrbitals|HOMO_character', 'AtomicOrbitals|HOMO_element', 'AtomicOrbitals|HOMO_energy', 'AtomicOrbitals|LUMO_character', 'AtomicOrbitals|LUMO_element', 'AtomicOrbitals|LUMO_energy', 'BandCenter|band center', 'ElementFraction|Al', 'ElementFraction|Si', 'ElementFraction|Ti']\n",
      "10\n"
     ]
    },
    {
     "data": {
      "text/plain": [
       "array([[1.10017  ],\n",
       "       [1.5998619],\n",
       "       [2.6000707],\n",
       "       [0.5000025]], dtype=float32)"
      ]
     },
     "execution_count": 2,
     "metadata": {},
     "output_type": "execute_result"
    }
   ],
   "source": [
    "from sklearn.pipeline import make_pipeline\n",
    "from pymatgen.core import Composition\n",
    "from modnet.sklearn import MODNetFeaturizer, RR, MODNetRegressor\n",
    "pipe = make_pipeline(\n",
    "    MODNetFeaturizer(), RR(drop_thr=0, n_feat=10), MODNetRegressor()\n",
    ")\n",
    "X = [Composition(\"Si\"), Composition(\"Cu\"), Composition(\"Al\"), Composition(\"Ti\")]\n",
    "y = [1.1, 1.6, 2.6, 0.5]\n",
    "pipe.fit(X, y)\n",
    "pipe.predict(X)"
   ]
  },
  {
   "cell_type": "markdown",
   "metadata": {},
   "source": [
    "## GridSearch"
   ]
  },
  {
   "cell_type": "code",
   "execution_count": 10,
   "metadata": {},
   "outputs": [
    {
     "name": "stdout",
     "output_type": "stream",
     "text": [
      "2022-05-17 17:58:58,492 - modnet - INFO - Loaded CompositionOnlyFeaturizer featurizer.\n",
      "2022-05-17 17:58:58,494 - modnet - INFO - Computing features, this can take time...\n",
      "2022-05-17 17:58:58,494 - modnet - INFO - Applying composition featurizers...\n",
      "2022-05-17 17:58:58,497 - modnet - INFO - Applying featurizers (AtomicOrbitals(), AtomicPackingEfficiency(), BandCenter(), ElementFraction(), ElementProperty(data_source=<matminer.utils.data.MagpieData object at 0x7f893edc9040>,\n",
      "                features=['Number', 'MendeleevNumber', 'AtomicWeight',\n",
      "                          'MeltingT', 'Column', 'Row', 'CovalentRadius',\n",
      "                          'Electronegativity', 'NsValence', 'NpValence',\n",
      "                          'NdValence', 'NfValence', 'NValence', 'NsUnfilled',\n",
      "                          'NpUnfilled', 'NdUnfilled', 'NfUnfilled', 'NUnfilled',\n",
      "                          'GSvolume_pa', 'GSbandgap', 'GSmagmom',\n",
      "                          'SpaceGroupNumber'],\n",
      "                stats=['minimum', 'maximum', 'range', 'mean', 'avg_dev',\n",
      "                       'mode']), IonProperty(), Miedema(ss_types=['min'], struct_types=['inter', 'amor', 'ss']), Stoichiometry(), TMetalFraction(), ValenceOrbital(), YangSolidSolution()) to column 'composition'.\n"
     ]
    },
    {
     "name": "stderr",
     "output_type": "stream",
     "text": [
      "MultipleFeaturizer: 100%|██████████| 2/2 [00:00<00:00,  9.11it/s]\n"
     ]
    },
    {
     "name": "stdout",
     "output_type": "stream",
     "text": [
      "2022-05-17 17:59:00,706 - modnet - INFO - Data has successfully been featurized!\n",
      "2022-05-17 17:59:00,727 - modnet - INFO - Multiprocessing on 1 workers.\n",
      "2022-05-17 17:59:00,730 - modnet - INFO - Computing \"self\" MI (i.e. information entropy) of features\n"
     ]
    },
    {
     "name": "stderr",
     "output_type": "stream",
     "text": [
      "  0%|          | 0/270 [00:02<?, ?it/s]\n",
      "/Users/ppdebreuck/anaconda3/envs/modnet-develop/lib/python3.8/site-packages/sklearn/model_selection/_validation.py:548: FitFailedWarning: Estimator fit failed. The score on this train-test partition for these parameters will be set to nan. Details: \n",
      "multiprocessing.pool.RemoteTraceback: \n",
      "\"\"\"\n",
      "Traceback (most recent call last):\n",
      "  File \"/Users/ppdebreuck/anaconda3/envs/modnet-develop/lib/python3.8/multiprocessing/pool.py\", line 125, in worker\n",
      "    result = (True, func(*args, **kwds))\n",
      "  File \"/Users/ppdebreuck/anaconda3/envs/modnet-develop/lib/python3.8/multiprocessing/pool.py\", line 48, in mapstar\n",
      "    return list(map(*args))\n",
      "  File \"/Users/ppdebreuck/Research/Software/modnet/modnet/preprocessing.py\", line 64, in map_mi\n",
      "    return compute_mi(**kwargs)\n",
      "  File \"/Users/ppdebreuck/Research/Software/modnet/modnet/preprocessing.py\", line 53, in compute_mi\n",
      "    mi = mutual_info_regression(\n",
      "  File \"/Users/ppdebreuck/anaconda3/envs/modnet-develop/lib/python3.8/site-packages/sklearn/utils/validation.py\", line 72, in inner_f\n",
      "    return f(**kwargs)\n",
      "  File \"/Users/ppdebreuck/anaconda3/envs/modnet-develop/lib/python3.8/site-packages/sklearn/feature_selection/_mutual_info.py\", line 368, in mutual_info_regression\n",
      "    return _estimate_mi(X, y, discrete_features, False, n_neighbors,\n",
      "  File \"/Users/ppdebreuck/anaconda3/envs/modnet-develop/lib/python3.8/site-packages/sklearn/feature_selection/_mutual_info.py\", line 288, in _estimate_mi\n",
      "    mi = [_compute_mi(x, y, discrete_feature, discrete_target, n_neighbors) for\n",
      "  File \"/Users/ppdebreuck/anaconda3/envs/modnet-develop/lib/python3.8/site-packages/sklearn/feature_selection/_mutual_info.py\", line 288, in <listcomp>\n",
      "    mi = [_compute_mi(x, y, discrete_feature, discrete_target, n_neighbors) for\n",
      "  File \"/Users/ppdebreuck/anaconda3/envs/modnet-develop/lib/python3.8/site-packages/sklearn/feature_selection/_mutual_info.py\", line 163, in _compute_mi\n",
      "    return _compute_mi_cc(x, y, n_neighbors)\n",
      "  File \"/Users/ppdebreuck/anaconda3/envs/modnet-develop/lib/python3.8/site-packages/sklearn/feature_selection/_mutual_info.py\", line 58, in _compute_mi_cc\n",
      "    radius = nn.kneighbors()[0]\n",
      "  File \"/Users/ppdebreuck/anaconda3/envs/modnet-develop/lib/python3.8/site-packages/sklearn/neighbors/_base.py\", line 616, in kneighbors\n",
      "    raise ValueError(\n",
      "ValueError: Expected n_neighbors <= n_samples,  but n_samples = 2, n_neighbors = 4\n",
      "\"\"\"\n",
      "\n",
      "The above exception was the direct cause of the following exception:\n",
      "\n",
      "Traceback (most recent call last):\n",
      "  File \"/Users/ppdebreuck/anaconda3/envs/modnet-develop/lib/python3.8/site-packages/sklearn/model_selection/_validation.py\", line 531, in _fit_and_score\n",
      "    estimator.fit(X_train, y_train, **fit_params)\n",
      "  File \"/Users/ppdebreuck/anaconda3/envs/modnet-develop/lib/python3.8/site-packages/sklearn/pipeline.py\", line 330, in fit\n",
      "    Xt = self._fit(X, y, **fit_params_steps)\n",
      "  File \"/Users/ppdebreuck/anaconda3/envs/modnet-develop/lib/python3.8/site-packages/sklearn/pipeline.py\", line 292, in _fit\n",
      "    X, fitted_transformer = fit_transform_one_cached(\n",
      "  File \"/Users/ppdebreuck/anaconda3/envs/modnet-develop/lib/python3.8/site-packages/joblib/memory.py\", line 349, in __call__\n",
      "    return self.func(*args, **kwargs)\n",
      "  File \"/Users/ppdebreuck/anaconda3/envs/modnet-develop/lib/python3.8/site-packages/sklearn/pipeline.py\", line 740, in _fit_transform_one\n",
      "    res = transformer.fit_transform(X, y, **fit_params)\n",
      "  File \"/Users/ppdebreuck/anaconda3/envs/modnet-develop/lib/python3.8/site-packages/sklearn/base.py\", line 693, in fit_transform\n",
      "    return self.fit(X, y, **fit_params).transform(X)\n",
      "  File \"/Users/ppdebreuck/Research/Software/modnet/modnet/sklearn.py\", line 145, in fit\n",
      "    cross_nmi_feats = get_cross_nmi(\n",
      "  File \"/Users/ppdebreuck/Research/Software/modnet/modnet/preprocessing.py\", line 240, in get_cross_nmi\n",
      "    for res in tqdm.tqdm(\n",
      "  File \"/Users/ppdebreuck/anaconda3/envs/modnet-develop/lib/python3.8/site-packages/tqdm/std.py\", line 1180, in __iter__\n",
      "    for obj in iterable:\n",
      "  File \"/Users/ppdebreuck/anaconda3/envs/modnet-develop/lib/python3.8/multiprocessing/pool.py\", line 448, in <genexpr>\n",
      "    return (item for chunk in result for item in chunk)\n",
      "  File \"/Users/ppdebreuck/anaconda3/envs/modnet-develop/lib/python3.8/multiprocessing/pool.py\", line 868, in next\n",
      "    raise value\n",
      "ValueError: Expected n_neighbors <= n_samples,  but n_samples = 2, n_neighbors = 4\n",
      "\n",
      "  warnings.warn(\"Estimator fit failed. The score on this train-test\"\n"
     ]
    },
    {
     "name": "stdout",
     "output_type": "stream",
     "text": [
      "2022-05-17 17:59:03,551 - modnet - INFO - Loaded CompositionOnlyFeaturizer featurizer.\n",
      "2022-05-17 17:59:03,552 - modnet - INFO - Computing features, this can take time...\n",
      "2022-05-17 17:59:03,553 - modnet - INFO - Applying composition featurizers...\n",
      "2022-05-17 17:59:03,567 - modnet - INFO - Applying featurizers (AtomicOrbitals(), AtomicPackingEfficiency(), BandCenter(), ElementFraction(), ElementProperty(data_source=<matminer.utils.data.MagpieData object at 0x7f893ee3d1c0>,\n",
      "                features=['Number', 'MendeleevNumber', 'AtomicWeight',\n",
      "                          'MeltingT', 'Column', 'Row', 'CovalentRadius',\n",
      "                          'Electronegativity', 'NsValence', 'NpValence',\n",
      "                          'NdValence', 'NfValence', 'NValence', 'NsUnfilled',\n",
      "                          'NpUnfilled', 'NdUnfilled', 'NfUnfilled', 'NUnfilled',\n",
      "                          'GSvolume_pa', 'GSbandgap', 'GSmagmom',\n",
      "                          'SpaceGroupNumber'],\n",
      "                stats=['minimum', 'maximum', 'range', 'mean', 'avg_dev',\n",
      "                       'mode']), IonProperty(), Miedema(ss_types=['min'], struct_types=['inter', 'amor', 'ss']), Stoichiometry(), TMetalFraction(), ValenceOrbital(), YangSolidSolution()) to column 'composition'.\n"
     ]
    },
    {
     "name": "stderr",
     "output_type": "stream",
     "text": [
      "MultipleFeaturizer: 100%|██████████| 2/2 [00:00<00:00,  7.87it/s]\n"
     ]
    },
    {
     "name": "stdout",
     "output_type": "stream",
     "text": [
      "2022-05-17 17:59:05,966 - modnet - INFO - Data has successfully been featurized!\n",
      "2022-05-17 17:59:05,986 - modnet - INFO - Multiprocessing on 1 workers.\n",
      "2022-05-17 17:59:05,990 - modnet - INFO - Computing \"self\" MI (i.e. information entropy) of features\n"
     ]
    },
    {
     "name": "stderr",
     "output_type": "stream",
     "text": [
      "  0%|          | 0/270 [00:02<?, ?it/s]\n"
     ]
    },
    {
     "name": "stdout",
     "output_type": "stream",
     "text": [
      "2022-05-17 17:59:08,784 - modnet - INFO - Loaded CompositionOnlyFeaturizer featurizer.\n",
      "2022-05-17 17:59:08,785 - modnet - INFO - Computing features, this can take time...\n",
      "2022-05-17 17:59:08,786 - modnet - INFO - Applying composition featurizers...\n",
      "2022-05-17 17:59:08,797 - modnet - INFO - Applying featurizers (AtomicOrbitals(), AtomicPackingEfficiency(), BandCenter(), ElementFraction(), ElementProperty(data_source=<matminer.utils.data.MagpieData object at 0x7f893efcfa30>,\n",
      "                features=['Number', 'MendeleevNumber', 'AtomicWeight',\n",
      "                          'MeltingT', 'Column', 'Row', 'CovalentRadius',\n",
      "                          'Electronegativity', 'NsValence', 'NpValence',\n",
      "                          'NdValence', 'NfValence', 'NValence', 'NsUnfilled',\n",
      "                          'NpUnfilled', 'NdUnfilled', 'NfUnfilled', 'NUnfilled',\n",
      "                          'GSvolume_pa', 'GSbandgap', 'GSmagmom',\n",
      "                          'SpaceGroupNumber'],\n",
      "                stats=['minimum', 'maximum', 'range', 'mean', 'avg_dev',\n",
      "                       'mode']), IonProperty(), Miedema(ss_types=['min'], struct_types=['inter', 'amor', 'ss']), Stoichiometry(), TMetalFraction(), ValenceOrbital(), YangSolidSolution()) to column 'composition'.\n"
     ]
    },
    {
     "name": "stderr",
     "output_type": "stream",
     "text": [
      "MultipleFeaturizer: 100%|██████████| 2/2 [00:00<00:00, 10.54it/s]\n"
     ]
    },
    {
     "name": "stdout",
     "output_type": "stream",
     "text": [
      "2022-05-17 17:59:10,983 - modnet - INFO - Data has successfully been featurized!\n",
      "2022-05-17 17:59:11,004 - modnet - INFO - Multiprocessing on 1 workers.\n",
      "2022-05-17 17:59:11,007 - modnet - INFO - Computing \"self\" MI (i.e. information entropy) of features\n"
     ]
    },
    {
     "name": "stderr",
     "output_type": "stream",
     "text": [
      "  0%|          | 0/270 [00:02<?, ?it/s]\n"
     ]
    },
    {
     "name": "stdout",
     "output_type": "stream",
     "text": [
      "2022-05-17 17:59:14,224 - modnet - INFO - Loaded CompositionOnlyFeaturizer featurizer.\n",
      "2022-05-17 17:59:14,226 - modnet - INFO - Computing features, this can take time...\n",
      "2022-05-17 17:59:14,227 - modnet - INFO - Applying composition featurizers...\n",
      "2022-05-17 17:59:14,242 - modnet - INFO - Applying featurizers (AtomicOrbitals(), AtomicPackingEfficiency(), BandCenter(), ElementFraction(), ElementProperty(data_source=<matminer.utils.data.MagpieData object at 0x7f893efbac10>,\n",
      "                features=['Number', 'MendeleevNumber', 'AtomicWeight',\n",
      "                          'MeltingT', 'Column', 'Row', 'CovalentRadius',\n",
      "                          'Electronegativity', 'NsValence', 'NpValence',\n",
      "                          'NdValence', 'NfValence', 'NValence', 'NsUnfilled',\n",
      "                          'NpUnfilled', 'NdUnfilled', 'NfUnfilled', 'NUnfilled',\n",
      "                          'GSvolume_pa', 'GSbandgap', 'GSmagmom',\n",
      "                          'SpaceGroupNumber'],\n",
      "                stats=['minimum', 'maximum', 'range', 'mean', 'avg_dev',\n",
      "                       'mode']), IonProperty(), Miedema(ss_types=['min'], struct_types=['inter', 'amor', 'ss']), Stoichiometry(), TMetalFraction(), ValenceOrbital(), YangSolidSolution()) to column 'composition'.\n"
     ]
    },
    {
     "name": "stderr",
     "output_type": "stream",
     "text": [
      "MultipleFeaturizer: 100%|██████████| 2/2 [00:00<00:00,  8.02it/s]\n"
     ]
    },
    {
     "name": "stdout",
     "output_type": "stream",
     "text": [
      "2022-05-17 17:59:16,568 - modnet - INFO - Data has successfully been featurized!\n",
      "2022-05-17 17:59:16,589 - modnet - INFO - Multiprocessing on 1 workers.\n",
      "2022-05-17 17:59:16,592 - modnet - INFO - Computing \"self\" MI (i.e. information entropy) of features\n"
     ]
    },
    {
     "name": "stderr",
     "output_type": "stream",
     "text": [
      "  0%|          | 0/270 [00:02<?, ?it/s]\n"
     ]
    },
    {
     "name": "stdout",
     "output_type": "stream",
     "text": [
      "2022-05-17 17:59:19,463 - modnet - INFO - Loaded CompositionOnlyFeaturizer featurizer.\n",
      "2022-05-17 17:59:19,464 - modnet - INFO - Computing features, this can take time...\n",
      "2022-05-17 17:59:19,465 - modnet - INFO - Applying composition featurizers...\n",
      "2022-05-17 17:59:19,476 - modnet - INFO - Applying featurizers (AtomicOrbitals(), AtomicPackingEfficiency(), BandCenter(), ElementFraction(), ElementProperty(data_source=<matminer.utils.data.MagpieData object at 0x7f893ee3d580>,\n",
      "                features=['Number', 'MendeleevNumber', 'AtomicWeight',\n",
      "                          'MeltingT', 'Column', 'Row', 'CovalentRadius',\n",
      "                          'Electronegativity', 'NsValence', 'NpValence',\n",
      "                          'NdValence', 'NfValence', 'NValence', 'NsUnfilled',\n",
      "                          'NpUnfilled', 'NdUnfilled', 'NfUnfilled', 'NUnfilled',\n",
      "                          'GSvolume_pa', 'GSbandgap', 'GSmagmom',\n",
      "                          'SpaceGroupNumber'],\n",
      "                stats=['minimum', 'maximum', 'range', 'mean', 'avg_dev',\n",
      "                       'mode']), IonProperty(), Miedema(ss_types=['min'], struct_types=['inter', 'amor', 'ss']), Stoichiometry(), TMetalFraction(), ValenceOrbital(), YangSolidSolution()) to column 'composition'.\n"
     ]
    },
    {
     "name": "stderr",
     "output_type": "stream",
     "text": [
      "MultipleFeaturizer: 100%|██████████| 2/2 [00:00<00:00,  9.67it/s]\n"
     ]
    },
    {
     "name": "stdout",
     "output_type": "stream",
     "text": [
      "2022-05-17 17:59:22,147 - modnet - INFO - Data has successfully been featurized!\n",
      "2022-05-17 17:59:22,168 - modnet - INFO - Multiprocessing on 1 workers.\n",
      "2022-05-17 17:59:22,171 - modnet - INFO - Computing \"self\" MI (i.e. information entropy) of features\n"
     ]
    },
    {
     "name": "stderr",
     "output_type": "stream",
     "text": [
      "  0%|          | 0/270 [00:02<?, ?it/s]\n"
     ]
    },
    {
     "name": "stdout",
     "output_type": "stream",
     "text": [
      "2022-05-17 17:59:25,022 - modnet - INFO - Loaded CompositionOnlyFeaturizer featurizer.\n",
      "2022-05-17 17:59:25,024 - modnet - INFO - Computing features, this can take time...\n",
      "2022-05-17 17:59:25,025 - modnet - INFO - Applying composition featurizers...\n",
      "2022-05-17 17:59:25,036 - modnet - INFO - Applying featurizers (AtomicOrbitals(), AtomicPackingEfficiency(), BandCenter(), ElementFraction(), ElementProperty(data_source=<matminer.utils.data.MagpieData object at 0x7f893efd6f70>,\n",
      "                features=['Number', 'MendeleevNumber', 'AtomicWeight',\n",
      "                          'MeltingT', 'Column', 'Row', 'CovalentRadius',\n",
      "                          'Electronegativity', 'NsValence', 'NpValence',\n",
      "                          'NdValence', 'NfValence', 'NValence', 'NsUnfilled',\n",
      "                          'NpUnfilled', 'NdUnfilled', 'NfUnfilled', 'NUnfilled',\n",
      "                          'GSvolume_pa', 'GSbandgap', 'GSmagmom',\n",
      "                          'SpaceGroupNumber'],\n",
      "                stats=['minimum', 'maximum', 'range', 'mean', 'avg_dev',\n",
      "                       'mode']), IonProperty(), Miedema(ss_types=['min'], struct_types=['inter', 'amor', 'ss']), Stoichiometry(), TMetalFraction(), ValenceOrbital(), YangSolidSolution()) to column 'composition'.\n"
     ]
    },
    {
     "name": "stderr",
     "output_type": "stream",
     "text": [
      "MultipleFeaturizer: 100%|██████████| 2/2 [00:00<00:00,  9.46it/s]\n"
     ]
    },
    {
     "name": "stdout",
     "output_type": "stream",
     "text": [
      "2022-05-17 17:59:27,635 - modnet - INFO - Data has successfully been featurized!\n",
      "2022-05-17 17:59:27,655 - modnet - INFO - Multiprocessing on 1 workers.\n",
      "2022-05-17 17:59:27,659 - modnet - INFO - Computing \"self\" MI (i.e. information entropy) of features\n"
     ]
    },
    {
     "name": "stderr",
     "output_type": "stream",
     "text": [
      "  0%|          | 0/270 [00:02<?, ?it/s]\n"
     ]
    },
    {
     "name": "stdout",
     "output_type": "stream",
     "text": [
      "2022-05-17 17:59:30,555 - modnet - INFO - Loaded CompositionOnlyFeaturizer featurizer.\n",
      "2022-05-17 17:59:30,557 - modnet - INFO - Computing features, this can take time...\n",
      "2022-05-17 17:59:30,557 - modnet - INFO - Applying composition featurizers...\n",
      "2022-05-17 17:59:30,568 - modnet - INFO - Applying featurizers (AtomicOrbitals(), AtomicPackingEfficiency(), BandCenter(), ElementFraction(), ElementProperty(data_source=<matminer.utils.data.MagpieData object at 0x7f893efbeb50>,\n",
      "                features=['Number', 'MendeleevNumber', 'AtomicWeight',\n",
      "                          'MeltingT', 'Column', 'Row', 'CovalentRadius',\n",
      "                          'Electronegativity', 'NsValence', 'NpValence',\n",
      "                          'NdValence', 'NfValence', 'NValence', 'NsUnfilled',\n",
      "                          'NpUnfilled', 'NdUnfilled', 'NfUnfilled', 'NUnfilled',\n",
      "                          'GSvolume_pa', 'GSbandgap', 'GSmagmom',\n",
      "                          'SpaceGroupNumber'],\n",
      "                stats=['minimum', 'maximum', 'range', 'mean', 'avg_dev',\n",
      "                       'mode']), IonProperty(), Miedema(ss_types=['min'], struct_types=['inter', 'amor', 'ss']), Stoichiometry(), TMetalFraction(), ValenceOrbital(), YangSolidSolution()) to column 'composition'.\n"
     ]
    },
    {
     "name": "stderr",
     "output_type": "stream",
     "text": [
      "MultipleFeaturizer: 100%|██████████| 2/2 [00:00<00:00,  9.96it/s]\n"
     ]
    },
    {
     "name": "stdout",
     "output_type": "stream",
     "text": [
      "2022-05-17 17:59:32,870 - modnet - INFO - Data has successfully been featurized!\n",
      "2022-05-17 17:59:32,891 - modnet - INFO - Multiprocessing on 1 workers.\n",
      "2022-05-17 17:59:32,894 - modnet - INFO - Computing \"self\" MI (i.e. information entropy) of features\n"
     ]
    },
    {
     "name": "stderr",
     "output_type": "stream",
     "text": [
      "  0%|          | 0/270 [00:02<?, ?it/s]\n"
     ]
    },
    {
     "name": "stdout",
     "output_type": "stream",
     "text": [
      "2022-05-17 17:59:35,822 - modnet - INFO - Loaded CompositionOnlyFeaturizer featurizer.\n",
      "2022-05-17 17:59:35,823 - modnet - INFO - Computing features, this can take time...\n",
      "2022-05-17 17:59:35,824 - modnet - INFO - Applying composition featurizers...\n",
      "2022-05-17 17:59:35,835 - modnet - INFO - Applying featurizers (AtomicOrbitals(), AtomicPackingEfficiency(), BandCenter(), ElementFraction(), ElementProperty(data_source=<matminer.utils.data.MagpieData object at 0x7f893f527370>,\n",
      "                features=['Number', 'MendeleevNumber', 'AtomicWeight',\n",
      "                          'MeltingT', 'Column', 'Row', 'CovalentRadius',\n",
      "                          'Electronegativity', 'NsValence', 'NpValence',\n",
      "                          'NdValence', 'NfValence', 'NValence', 'NsUnfilled',\n",
      "                          'NpUnfilled', 'NdUnfilled', 'NfUnfilled', 'NUnfilled',\n",
      "                          'GSvolume_pa', 'GSbandgap', 'GSmagmom',\n",
      "                          'SpaceGroupNumber'],\n",
      "                stats=['minimum', 'maximum', 'range', 'mean', 'avg_dev',\n",
      "                       'mode']), IonProperty(), Miedema(ss_types=['min'], struct_types=['inter', 'amor', 'ss']), Stoichiometry(), TMetalFraction(), ValenceOrbital(), YangSolidSolution()) to column 'composition'.\n"
     ]
    },
    {
     "name": "stderr",
     "output_type": "stream",
     "text": [
      "MultipleFeaturizer: 100%|██████████| 2/2 [00:00<00:00,  9.93it/s]\n"
     ]
    },
    {
     "name": "stdout",
     "output_type": "stream",
     "text": [
      "2022-05-17 17:59:38,166 - modnet - INFO - Data has successfully been featurized!\n",
      "2022-05-17 17:59:38,189 - modnet - INFO - Multiprocessing on 1 workers.\n",
      "2022-05-17 17:59:38,192 - modnet - INFO - Computing \"self\" MI (i.e. information entropy) of features\n"
     ]
    },
    {
     "name": "stderr",
     "output_type": "stream",
     "text": [
      "  0%|          | 0/270 [00:02<?, ?it/s]\n"
     ]
    },
    {
     "name": "stdout",
     "output_type": "stream",
     "text": [
      "2022-05-17 17:59:41,299 - modnet - INFO - Loaded CompositionOnlyFeaturizer featurizer.\n",
      "2022-05-17 17:59:41,300 - modnet - INFO - Computing features, this can take time...\n",
      "2022-05-17 17:59:41,300 - modnet - INFO - Applying composition featurizers...\n",
      "2022-05-17 17:59:41,312 - modnet - INFO - Applying featurizers (AtomicOrbitals(), AtomicPackingEfficiency(), BandCenter(), ElementFraction(), ElementProperty(data_source=<matminer.utils.data.MagpieData object at 0x7f893efa3df0>,\n",
      "                features=['Number', 'MendeleevNumber', 'AtomicWeight',\n",
      "                          'MeltingT', 'Column', 'Row', 'CovalentRadius',\n",
      "                          'Electronegativity', 'NsValence', 'NpValence',\n",
      "                          'NdValence', 'NfValence', 'NValence', 'NsUnfilled',\n",
      "                          'NpUnfilled', 'NdUnfilled', 'NfUnfilled', 'NUnfilled',\n",
      "                          'GSvolume_pa', 'GSbandgap', 'GSmagmom',\n",
      "                          'SpaceGroupNumber'],\n",
      "                stats=['minimum', 'maximum', 'range', 'mean', 'avg_dev',\n",
      "                       'mode']), IonProperty(), Miedema(ss_types=['min'], struct_types=['inter', 'amor', 'ss']), Stoichiometry(), TMetalFraction(), ValenceOrbital(), YangSolidSolution()) to column 'composition'.\n"
     ]
    },
    {
     "name": "stderr",
     "output_type": "stream",
     "text": [
      "MultipleFeaturizer: 100%|██████████| 4/4 [00:00<00:00, 16.14it/s]\n"
     ]
    },
    {
     "name": "stdout",
     "output_type": "stream",
     "text": [
      "2022-05-17 17:59:44,114 - modnet - INFO - Data has successfully been featurized!\n",
      "2022-05-17 17:59:44,134 - modnet - INFO - Multiprocessing on 1 workers.\n",
      "2022-05-17 17:59:44,138 - modnet - INFO - Computing \"self\" MI (i.e. information entropy) of features\n"
     ]
    },
    {
     "name": "stderr",
     "output_type": "stream",
     "text": [
      "100%|██████████| 270/270 [00:03<00:00, 84.00it/s] "
     ]
    },
    {
     "name": "stdout",
     "output_type": "stream",
     "text": [
      "2022-05-17 17:59:47,376 - modnet - INFO - Computing cross NMI between all features...\n"
     ]
    },
    {
     "name": "stderr",
     "output_type": "stream",
     "text": [
      "\n",
      "  0%|          | 1/4851 [00:00<18:49,  4.30it/s]/Users/ppdebreuck/Research/Software/modnet/modnet/preprocessing.py:274: RuntimeWarning: invalid value encountered in true_divide\n",
      "  mutual_info.loc[res[1], res[2]] = mutual_info.loc[res[2], res[1]] = res[0] / (\n",
      "  4%|▍         | 201/4851 [00:00<00:11, 415.39it/s]/Users/ppdebreuck/Research/Software/modnet/modnet/preprocessing.py:274: RuntimeWarning: divide by zero encountered in double_scalars\n",
      "  mutual_info.loc[res[1], res[2]] = mutual_info.loc[res[2], res[1]] = res[0] / (\n",
      "100%|██████████| 4851/4851 [00:08<00:00, 562.40it/s]\n",
      "/Users/ppdebreuck/Research/Software/modnet/modnet/preprocessing.py:161: RuntimeWarning: invalid value encountered in true_divide\n",
      "  mutual_info.loc[x, target_name] = mutual_info.loc[x, target_name] / (\n",
      "/Users/ppdebreuck/Research/Software/modnet/modnet/preprocessing.py:161: RuntimeWarning: invalid value encountered in double_scalars\n",
      "  mutual_info.loc[x, target_name] = mutual_info.loc[x, target_name] / (\n"
     ]
    },
    {
     "name": "stdout",
     "output_type": "stream",
     "text": [
      "['AtomicOrbitals|HOMO_character', 'AtomicOrbitals|HOMO_element', 'AtomicOrbitals|HOMO_energy', 'AtomicOrbitals|LUMO_character', 'AtomicOrbitals|LUMO_element', 'AtomicOrbitals|LUMO_energy', 'BandCenter|band center', 'ElementFraction|Al', 'ElementFraction|Si', 'ElementFraction|Ti', 'ElementFraction|Cu', 'ElementProperty|MagpieData minimum Number', 'ElementProperty|MagpieData maximum Number', 'ElementProperty|MagpieData mean Number', 'ElementProperty|MagpieData mode Number', 'ElementProperty|MagpieData minimum MendeleevNumber', 'ElementProperty|MagpieData maximum MendeleevNumber', 'ElementProperty|MagpieData mean MendeleevNumber', 'ElementProperty|MagpieData mode MendeleevNumber', 'ElementProperty|MagpieData minimum AtomicWeight']\n",
      "20\n"
     ]
    },
    {
     "data": {
      "text/plain": [
       "GridSearchCV(cv=2,\n",
       "             estimator=Pipeline(steps=[('modnetfeaturizer', MODNetFeaturizer()),\n",
       "                                       ('rr', RR(drop_thr=0, n_feat=10)),\n",
       "                                       ('modnetregressor', MODNetRegressor())]),\n",
       "             param_grid={'modnetregressor__lr': [0.1, 0.01],\n",
       "                         'rr__n_feat': [20, 50]})"
      ]
     },
     "execution_count": 10,
     "metadata": {},
     "output_type": "execute_result"
    }
   ],
   "source": [
    "from sklearn.model_selection import GridSearchCV\n",
    "from sklearn.pipeline import make_pipeline\n",
    "from pymatgen.core import Composition\n",
    "from modnet.sklearn import MODNetFeaturizer, RR, MODNetRegressor\n",
    "pipe = make_pipeline(\n",
    "    MODNetFeaturizer(), RR(drop_thr=0, n_feat=10), MODNetRegressor()\n",
    ")\n",
    "X = [Composition(\"Si\"), Composition(\"Cu\"), Composition(\"Al\"), Composition(\"Ti\")]\n",
    "y = [1.1, 1.6, 2.6, 0.5]\n",
    "\n",
    "\n",
    "parameters={\"modnetregressor__lr\":[0.1, 0.01], \"rr__n_feat\":[20,50]}\n",
    "grid = GridSearchCV(pipe, cv=2, param_grid=parameters)\n",
    "grid.fit(X,y)"
   ]
  },
  {
   "cell_type": "code",
   "execution_count": null,
   "metadata": {},
   "outputs": [],
   "source": []
  }
 ],
 "metadata": {
  "interpreter": {
   "hash": "65cdb1bf34a883aa160cb191d1776d32605e2c21ff3abc3b3101a9562d1e4c9d"
  },
  "kernelspec": {
   "display_name": "Python 3.8.12 ('modnet-develop')",
   "language": "python",
   "name": "python3"
  },
  "language_info": {
   "codemirror_mode": {
    "name": "ipython",
    "version": 3
   },
   "file_extension": ".py",
   "mimetype": "text/x-python",
   "name": "python",
   "nbconvert_exporter": "python",
   "pygments_lexer": "ipython3",
   "version": "3.8.12"
  },
  "orig_nbformat": 4
 },
 "nbformat": 4,
 "nbformat_minor": 2
}
